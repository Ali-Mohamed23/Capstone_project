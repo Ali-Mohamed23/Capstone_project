{
 "cells": [
  {
   "cell_type": "markdown",
   "id": "8ee1eaa3-bfa7-41fb-8afa-4fb34cedd968",
   "metadata": {
    "tags": []
   },
   "source": [
    "## EDA for project"
   ]
  },
  {
   "cell_type": "code",
   "execution_count": 1,
   "id": "5e1f2d03-57f7-4baf-806d-abbec5e681f0",
   "metadata": {},
   "outputs": [
    {
     "name": "stdout",
     "output_type": "stream",
     "text": [
      "An Error occured!\n"
     ]
    }
   ],
   "source": [
    "import requests\n",
    "\n",
    "# Endpoint URL\n",
    "url = 'http://127.0.0.1:5000/predict'\n",
    "\n",
    "data = {\n",
    "    'children': 0,\n",
    "    'deposit_type': 'No Deposit',\n",
    "    'hotel': 'Resort Hotel',\n",
    "    'adults': 2,\n",
    "    'distribution_channel': 'TA/TO',\n",
    "    'meal': 'BB',\n",
    "    'previous_cancellations': 0,\n",
    "    'reserved_room_type': 'A',\n",
    "    'booking_changes': 0,\n",
    "    'stays_in_weekend_nights': 2,\n",
    "    'customer_type': 'Transient',\n",
    "    'assigned_room_type': 'A',\n",
    "    'arrival_date_year': 2015,\n",
    "    'stays_in_week_nights': 5,\n",
    "    'arrival_date_month': 'August',\n",
    "    'required_car_parking_spaces': 0,\n",
    "    'total_of_special_requests': 1,\n",
    "    'arrival_date_day_of_month': 1,\n",
    "    'market_segment': 'Online TA',\n",
    "    'adr': 100,\n",
    "    'booking_lead_time': 2015, \n",
    "    'arrival_date_week_number': 32,\n",
    "    'lead_time': 50,\n",
    "    'country': 'USA',\n",
    "    'month': 7.0\n",
    "}\n",
    "\n",
    "try:\n",
    "    # Send POST request\n",
    "    response = requests.post(url, json=data)\n",
    "    # Print response\n",
    "    print(response.json())\n",
    "except:\n",
    "    print('An Error occured!')\n"
   ]
  },
  {
   "cell_type": "code",
   "execution_count": 42,
   "id": "0fd11d53-e0ae-414c-afb3-65a28afe635e",
   "metadata": {},
   "outputs": [
    {
     "name": "stdout",
     "output_type": "stream",
     "text": [
      "An Error occured!\n"
     ]
    }
   ],
   "source": [
    "import requests\n",
    "\n",
    "# Endpoint URL\n",
    "url = 'http://127.0.0.1:5000/predict'\n",
    "\n",
    "data_canc = {\n",
    "    'children': 0,\n",
    "    'deposit_type': 'No Deposit',\n",
    "    'hotel': 'Resort Hotel',\n",
    "    'adults': 2,\n",
    "    'distribution_channel': 'TA/TO',\n",
    "    'meal': 'BB',\n",
    "    'previous_cancellations': 0,\n",
    "    'reserved_room_type': 'D',\n",
    "    'booking_changes': 0,\n",
    "    'stays_in_weekend_nights': 0,\n",
    "    'customer_type': 'Transient',\n",
    "    'assigned_room_type': 'D',\n",
    "    'arrival_date_year': 2015,\n",
    "    'stays_in_week_nights': 5,\n",
    "    'arrival_date_month': 'July',\n",
    "    'required_car_parking_spaces': 0,\n",
    "    'total_of_special_requests': 0,\n",
    "    'arrival_date_day_of_month': 4,\n",
    "    'market_segment': 'Online TA',\n",
    "    'adr': 113,\n",
    "    'booking_lead_time': 1982, \n",
    "    'arrival_date_week_number': 27,\n",
    "    'lead_time': 33,\n",
    "    'country': 'PRT',\n",
    "    'month': 7.0\n",
    "}\n",
    "\n",
    "try:\n",
    "    # Send POST request\n",
    "    response = requests.post(url, json=data_canc)\n",
    "    # Print response\n",
    "    print(response.json())\n",
    "except:\n",
    "    print('An Error occured!')"
   ]
  },
  {
   "cell_type": "code",
   "execution_count": null,
   "id": "a9a2f85c-b19f-4745-9ecd-02e9acb3712d",
   "metadata": {},
   "outputs": [],
   "source": []
  },
  {
   "cell_type": "code",
   "execution_count": null,
   "id": "f4a3a666-55a0-4d51-b234-58ece04f6cf2",
   "metadata": {},
   "outputs": [],
   "source": []
  }
 ],
 "metadata": {
  "kernelspec": {
   "display_name": "Python 3 (ipykernel)",
   "language": "python",
   "name": "python3"
  },
  "language_info": {
   "codemirror_mode": {
    "name": "ipython",
    "version": 3
   },
   "file_extension": ".py",
   "mimetype": "text/x-python",
   "name": "python",
   "nbconvert_exporter": "python",
   "pygments_lexer": "ipython3",
   "version": "3.10.9"
  }
 },
 "nbformat": 4,
 "nbformat_minor": 5
}
